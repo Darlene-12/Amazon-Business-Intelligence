{
 "cells": [
  {
   "cell_type": "markdown",
   "metadata": {},
   "source": [
    "#### PROJECT GOAL\n",
    "##### The goal of the project is to design and implement an interactive Power BI dashboard that provides insights into Amazon's e-commerce business by analyzing Key Performance Metrics, such as sales trends, customer demographics and product performance.\n",
    "\n",
    "##### By leveraging Python (NumPy, Pandas) for data preprocessing and Power BI for visualization, we aim to: ✔ Track Amazon’s sales performance (revenue, order trends, fulfillment status) 📊\n",
    "\n",
    "##### ✔ Analyze customer buying behavior (demographics, purchasing patterns, regions) 🛒\n",
    "##### ✔ Evaluate product performance (top-selling items, ratings, reviews, discounts) 📦\n",
    "##### ✔ Assess marketing impact (pricing strategies, promotions, and traffic sources) 💰\n",
    "\n",
    "##### This project will enable businesses and decision-makers to monitor e-commerce performance, optimize product offerings, and improve customer engagement through real-time data-driven insights. 🚀\n",
    "\n",
    "\n",
    "\n",
    "\n",
    "\n",
    "\n",
    "\n"
   ]
  },
  {
   "cell_type": "code",
   "execution_count": 75,
   "metadata": {},
   "outputs": [],
   "source": [
    "#Importing necessary Libraries\n",
    "import pandas as pd\n",
    "import numpy as np\n",
    "import matplotlib.pyplot as plt\n",
    "import seaborn as sns\n"
   ]
  },
  {
   "cell_type": "code",
   "execution_count": 76,
   "metadata": {},
   "outputs": [
    {
     "data": {
      "text/html": [
       "<div>\n",
       "<style scoped>\n",
       "    .dataframe tbody tr th:only-of-type {\n",
       "        vertical-align: middle;\n",
       "    }\n",
       "\n",
       "    .dataframe tbody tr th {\n",
       "        vertical-align: top;\n",
       "    }\n",
       "\n",
       "    .dataframe thead th {\n",
       "        text-align: right;\n",
       "    }\n",
       "</style>\n",
       "<table border=\"1\" class=\"dataframe\">\n",
       "  <thead>\n",
       "    <tr style=\"text-align: right;\">\n",
       "      <th></th>\n",
       "      <th>Order Date</th>\n",
       "      <th>Purchase Price Per Unit</th>\n",
       "      <th>Quantity</th>\n",
       "      <th>Shipping Address State</th>\n",
       "      <th>Title</th>\n",
       "      <th>ASIN/ISBN (Product Code)</th>\n",
       "      <th>Category</th>\n",
       "      <th>Survey ResponseID</th>\n",
       "    </tr>\n",
       "  </thead>\n",
       "  <tbody>\n",
       "    <tr>\n",
       "      <th>0</th>\n",
       "      <td>2018-12-04</td>\n",
       "      <td>7.98</td>\n",
       "      <td>1</td>\n",
       "      <td>NJ</td>\n",
       "      <td>SanDisk Ultra 16GB Class 10 SDHC UHS-I Memory ...</td>\n",
       "      <td>B0143RTB1E</td>\n",
       "      <td>FLASH_MEMORY</td>\n",
       "      <td>R_01vNIayewjIIKMF</td>\n",
       "    </tr>\n",
       "    <tr>\n",
       "      <th>1</th>\n",
       "      <td>2018-12-22</td>\n",
       "      <td>13.99</td>\n",
       "      <td>1</td>\n",
       "      <td>NJ</td>\n",
       "      <td>Betron BS10 Earphones Wired Headphones in Ear ...</td>\n",
       "      <td>B01MA1MJ6H</td>\n",
       "      <td>HEADPHONES</td>\n",
       "      <td>R_01vNIayewjIIKMF</td>\n",
       "    </tr>\n",
       "    <tr>\n",
       "      <th>2</th>\n",
       "      <td>2018-12-24</td>\n",
       "      <td>8.99</td>\n",
       "      <td>1</td>\n",
       "      <td>NJ</td>\n",
       "      <td>NaN</td>\n",
       "      <td>B078JZTFN3</td>\n",
       "      <td>NaN</td>\n",
       "      <td>R_01vNIayewjIIKMF</td>\n",
       "    </tr>\n",
       "    <tr>\n",
       "      <th>3</th>\n",
       "      <td>2018-12-25</td>\n",
       "      <td>10.45</td>\n",
       "      <td>1</td>\n",
       "      <td>NJ</td>\n",
       "      <td>Perfecto Stainless Steel Shaving Bowl. Durable...</td>\n",
       "      <td>B06XWF9HML</td>\n",
       "      <td>DISHWARE_BOWL</td>\n",
       "      <td>R_01vNIayewjIIKMF</td>\n",
       "    </tr>\n",
       "    <tr>\n",
       "      <th>4</th>\n",
       "      <td>2018-12-25</td>\n",
       "      <td>10.00</td>\n",
       "      <td>1</td>\n",
       "      <td>NJ</td>\n",
       "      <td>Proraso Shaving Cream for Men</td>\n",
       "      <td>B00837ZOI0</td>\n",
       "      <td>SHAVING_AGENT</td>\n",
       "      <td>R_01vNIayewjIIKMF</td>\n",
       "    </tr>\n",
       "  </tbody>\n",
       "</table>\n",
       "</div>"
      ],
      "text/plain": [
       "  Order Date  Purchase Price Per Unit  Quantity Shipping Address State  \\\n",
       "0 2018-12-04                     7.98         1                     NJ   \n",
       "1 2018-12-22                    13.99         1                     NJ   \n",
       "2 2018-12-24                     8.99         1                     NJ   \n",
       "3 2018-12-25                    10.45         1                     NJ   \n",
       "4 2018-12-25                    10.00         1                     NJ   \n",
       "\n",
       "                                               Title ASIN/ISBN (Product Code)  \\\n",
       "0  SanDisk Ultra 16GB Class 10 SDHC UHS-I Memory ...               B0143RTB1E   \n",
       "1  Betron BS10 Earphones Wired Headphones in Ear ...               B01MA1MJ6H   \n",
       "2                                                NaN               B078JZTFN3   \n",
       "3  Perfecto Stainless Steel Shaving Bowl. Durable...               B06XWF9HML   \n",
       "4                      Proraso Shaving Cream for Men               B00837ZOI0   \n",
       "\n",
       "        Category  Survey ResponseID  \n",
       "0   FLASH_MEMORY  R_01vNIayewjIIKMF  \n",
       "1     HEADPHONES  R_01vNIayewjIIKMF  \n",
       "2            NaN  R_01vNIayewjIIKMF  \n",
       "3  DISHWARE_BOWL  R_01vNIayewjIIKMF  \n",
       "4  SHAVING_AGENT  R_01vNIayewjIIKMF  "
      ]
     },
     "execution_count": 76,
     "metadata": {},
     "output_type": "execute_result"
    }
   ],
   "source": [
    "# Loading necessary datasets\n",
    "Amazon1 = \"AMAZON DATA 1.xlsx\"\n",
    "Amazon2 = \"AMAZON DATA 2.xlsx\"\n",
    "Amazon3 = \"AMAZON DATA 3.xlsx\"\n",
    "\n",
    "# Reading of the datasets\n",
    "Amazon1 = pd.read_excel(Amazon1)\n",
    "Amazon2 = pd.read_excel(Amazon2)\n",
    "Amazon3 = pd.read_excel(Amazon3)\n",
    "\n",
    "# Checking the first 5 rows of the datasets\n",
    "Amazon1.head()\n"
   ]
  },
  {
   "cell_type": "code",
   "execution_count": 77,
   "metadata": {},
   "outputs": [
    {
     "data": {
      "text/html": [
       "<div>\n",
       "<style scoped>\n",
       "    .dataframe tbody tr th:only-of-type {\n",
       "        vertical-align: middle;\n",
       "    }\n",
       "\n",
       "    .dataframe tbody tr th {\n",
       "        vertical-align: top;\n",
       "    }\n",
       "\n",
       "    .dataframe thead th {\n",
       "        text-align: right;\n",
       "    }\n",
       "</style>\n",
       "<table border=\"1\" class=\"dataframe\">\n",
       "  <thead>\n",
       "    <tr style=\"text-align: right;\">\n",
       "      <th></th>\n",
       "      <th>product_id</th>\n",
       "      <th>product_name</th>\n",
       "      <th>category</th>\n",
       "      <th>discounted_price</th>\n",
       "      <th>actual_price</th>\n",
       "      <th>discount_percentage</th>\n",
       "      <th>rating</th>\n",
       "      <th>rating_count</th>\n",
       "      <th>about_product</th>\n",
       "      <th>user_id</th>\n",
       "      <th>user_name</th>\n",
       "      <th>review_id</th>\n",
       "      <th>review_title</th>\n",
       "      <th>review_content</th>\n",
       "      <th>img_link</th>\n",
       "      <th>product_link</th>\n",
       "    </tr>\n",
       "  </thead>\n",
       "  <tbody>\n",
       "    <tr>\n",
       "      <th>0</th>\n",
       "      <td>B07JW9H4J1</td>\n",
       "      <td>Wayona Nylon Braided USB to Lightning Fast Cha...</td>\n",
       "      <td>Computers&amp;Accessories|Accessories&amp;Peripherals|...</td>\n",
       "      <td>â‚¹399</td>\n",
       "      <td>â‚¹1,099</td>\n",
       "      <td>0.64</td>\n",
       "      <td>4.2</td>\n",
       "      <td>24269</td>\n",
       "      <td>High Compatibility : Compatible With iPhone 12...</td>\n",
       "      <td>AG3D6O4STAQKAY2UVGEUV46KN35Q,AHMY5CWJMMK5BJRBB...</td>\n",
       "      <td>Manav,Adarsh gupta,Sundeep,S.Sayeed Ahmed,jasp...</td>\n",
       "      <td>R3HXWT0LRP0NMF,R2AJM3LFTLZHFO,R6AQJGUP6P86,R1K...</td>\n",
       "      <td>Satisfied,Charging is really fast,Value for mo...</td>\n",
       "      <td>Looks durable Charging is fine tooNo complains...</td>\n",
       "      <td>https://m.media-amazon.com/images/W/WEBP_40237...</td>\n",
       "      <td>https://www.amazon.in/Wayona-Braided-WN3LG1-Sy...</td>\n",
       "    </tr>\n",
       "    <tr>\n",
       "      <th>1</th>\n",
       "      <td>B098NS6PVG</td>\n",
       "      <td>Ambrane Unbreakable 60W / 3A Fast Charging 1.5...</td>\n",
       "      <td>Computers&amp;Accessories|Accessories&amp;Peripherals|...</td>\n",
       "      <td>â‚¹199</td>\n",
       "      <td>â‚¹349</td>\n",
       "      <td>0.43</td>\n",
       "      <td>4</td>\n",
       "      <td>43994</td>\n",
       "      <td>Compatible with all Type C enabled devices, be...</td>\n",
       "      <td>AECPFYFQVRUWC3KGNLJIOREFP5LQ,AGYYVPDD7YG7FYNBX...</td>\n",
       "      <td>ArdKn,Nirbhay kumar,Sagar Viswanathan,Asp,Plac...</td>\n",
       "      <td>RGIQEG07R9HS2,R1SMWZQ86XIN8U,R2J3Y1WL29GWDE,RY...</td>\n",
       "      <td>A Good Braided Cable for Your Type C Device,Go...</td>\n",
       "      <td>I ordered this cable to connect my phone to An...</td>\n",
       "      <td>https://m.media-amazon.com/images/W/WEBP_40237...</td>\n",
       "      <td>https://www.amazon.in/Ambrane-Unbreakable-Char...</td>\n",
       "    </tr>\n",
       "    <tr>\n",
       "      <th>2</th>\n",
       "      <td>B096MSW6CT</td>\n",
       "      <td>Sounce Fast Phone Charging Cable &amp; Data Sync U...</td>\n",
       "      <td>Computers&amp;Accessories|Accessories&amp;Peripherals|...</td>\n",
       "      <td>â‚¹199</td>\n",
       "      <td>â‚¹1,899</td>\n",
       "      <td>0.90</td>\n",
       "      <td>3.9</td>\n",
       "      <td>7928</td>\n",
       "      <td>ã€ Fast Charger&amp; Data Syncã€‘-With built-in s...</td>\n",
       "      <td>AGU3BBQ2V2DDAMOAKGFAWDDQ6QHA,AESFLDV2PT363T2AQ...</td>\n",
       "      <td>Kunal,Himanshu,viswanath,sai niharka,saqib mal...</td>\n",
       "      <td>R3J3EQQ9TZI5ZJ,R3E7WBGK7ID0KV,RWU79XKQ6I1QF,R2...</td>\n",
       "      <td>Good speed for earlier versions,Good Product,W...</td>\n",
       "      <td>Not quite durable and sturdy,https://m.media-a...</td>\n",
       "      <td>https://m.media-amazon.com/images/W/WEBP_40237...</td>\n",
       "      <td>https://www.amazon.in/Sounce-iPhone-Charging-C...</td>\n",
       "    </tr>\n",
       "    <tr>\n",
       "      <th>3</th>\n",
       "      <td>B08HDJ86NZ</td>\n",
       "      <td>boAt Deuce USB 300 2 in 1 Type-C &amp; Micro USB S...</td>\n",
       "      <td>Computers&amp;Accessories|Accessories&amp;Peripherals|...</td>\n",
       "      <td>â‚¹329</td>\n",
       "      <td>â‚¹699</td>\n",
       "      <td>0.53</td>\n",
       "      <td>4.2</td>\n",
       "      <td>94363</td>\n",
       "      <td>The boAt Deuce USB 300 2 in 1 cable is compati...</td>\n",
       "      <td>AEWAZDZZJLQUYVOVGBEUKSLXHQ5A,AG5HTSFRRE6NL3M5S...</td>\n",
       "      <td>Omkar dhale,JD,HEMALATHA,Ajwadh a.,amar singh ...</td>\n",
       "      <td>R3EEUZKKK9J36I,R3HJVYCLYOY554,REDECAZ7AMPQC,R1...</td>\n",
       "      <td>Good product,Good one,Nice,Really nice product...</td>\n",
       "      <td>Good product,long wire,Charges good,Nice,I bou...</td>\n",
       "      <td>https://m.media-amazon.com/images/I/41V5FtEWPk...</td>\n",
       "      <td>https://www.amazon.in/Deuce-300-Resistant-Tang...</td>\n",
       "    </tr>\n",
       "    <tr>\n",
       "      <th>4</th>\n",
       "      <td>B08CF3B7N1</td>\n",
       "      <td>Portronics Konnect L 1.2M Fast Charging 3A 8 P...</td>\n",
       "      <td>Computers&amp;Accessories|Accessories&amp;Peripherals|...</td>\n",
       "      <td>â‚¹154</td>\n",
       "      <td>â‚¹399</td>\n",
       "      <td>0.61</td>\n",
       "      <td>4.2</td>\n",
       "      <td>16905</td>\n",
       "      <td>[CHARGE &amp; SYNC FUNCTION]- This cable comes wit...</td>\n",
       "      <td>AE3Q6KSUK5P75D5HFYHCRAOLODSA,AFUGIFH5ZAFXRDSZH...</td>\n",
       "      <td>rahuls6099,Swasat Borah,Ajay Wadke,Pranali,RVK...</td>\n",
       "      <td>R1BP4L2HH9TFUP,R16PVJEXKV6QZS,R2UPDB81N66T4P,R...</td>\n",
       "      <td>As good as original,Decent,Good one for second...</td>\n",
       "      <td>Bought this instead of original apple, does th...</td>\n",
       "      <td>https://m.media-amazon.com/images/W/WEBP_40237...</td>\n",
       "      <td>https://www.amazon.in/Portronics-Konnect-POR-1...</td>\n",
       "    </tr>\n",
       "  </tbody>\n",
       "</table>\n",
       "</div>"
      ],
      "text/plain": [
       "   product_id                                       product_name  \\\n",
       "0  B07JW9H4J1  Wayona Nylon Braided USB to Lightning Fast Cha...   \n",
       "1  B098NS6PVG  Ambrane Unbreakable 60W / 3A Fast Charging 1.5...   \n",
       "2  B096MSW6CT  Sounce Fast Phone Charging Cable & Data Sync U...   \n",
       "3  B08HDJ86NZ  boAt Deuce USB 300 2 in 1 Type-C & Micro USB S...   \n",
       "4  B08CF3B7N1  Portronics Konnect L 1.2M Fast Charging 3A 8 P...   \n",
       "\n",
       "                                            category discounted_price  \\\n",
       "0  Computers&Accessories|Accessories&Peripherals|...           â‚¹399   \n",
       "1  Computers&Accessories|Accessories&Peripherals|...           â‚¹199   \n",
       "2  Computers&Accessories|Accessories&Peripherals|...           â‚¹199   \n",
       "3  Computers&Accessories|Accessories&Peripherals|...           â‚¹329   \n",
       "4  Computers&Accessories|Accessories&Peripherals|...           â‚¹154   \n",
       "\n",
       "  actual_price  discount_percentage rating rating_count  \\\n",
       "0     â‚¹1,099                 0.64    4.2        24269   \n",
       "1       â‚¹349                 0.43      4        43994   \n",
       "2     â‚¹1,899                 0.90    3.9         7928   \n",
       "3       â‚¹699                 0.53    4.2        94363   \n",
       "4       â‚¹399                 0.61    4.2        16905   \n",
       "\n",
       "                                       about_product  \\\n",
       "0  High Compatibility : Compatible With iPhone 12...   \n",
       "1  Compatible with all Type C enabled devices, be...   \n",
       "2  ã€ Fast Charger& Data Syncã€‘-With built-in s...   \n",
       "3  The boAt Deuce USB 300 2 in 1 cable is compati...   \n",
       "4  [CHARGE & SYNC FUNCTION]- This cable comes wit...   \n",
       "\n",
       "                                             user_id  \\\n",
       "0  AG3D6O4STAQKAY2UVGEUV46KN35Q,AHMY5CWJMMK5BJRBB...   \n",
       "1  AECPFYFQVRUWC3KGNLJIOREFP5LQ,AGYYVPDD7YG7FYNBX...   \n",
       "2  AGU3BBQ2V2DDAMOAKGFAWDDQ6QHA,AESFLDV2PT363T2AQ...   \n",
       "3  AEWAZDZZJLQUYVOVGBEUKSLXHQ5A,AG5HTSFRRE6NL3M5S...   \n",
       "4  AE3Q6KSUK5P75D5HFYHCRAOLODSA,AFUGIFH5ZAFXRDSZH...   \n",
       "\n",
       "                                           user_name  \\\n",
       "0  Manav,Adarsh gupta,Sundeep,S.Sayeed Ahmed,jasp...   \n",
       "1  ArdKn,Nirbhay kumar,Sagar Viswanathan,Asp,Plac...   \n",
       "2  Kunal,Himanshu,viswanath,sai niharka,saqib mal...   \n",
       "3  Omkar dhale,JD,HEMALATHA,Ajwadh a.,amar singh ...   \n",
       "4  rahuls6099,Swasat Borah,Ajay Wadke,Pranali,RVK...   \n",
       "\n",
       "                                           review_id  \\\n",
       "0  R3HXWT0LRP0NMF,R2AJM3LFTLZHFO,R6AQJGUP6P86,R1K...   \n",
       "1  RGIQEG07R9HS2,R1SMWZQ86XIN8U,R2J3Y1WL29GWDE,RY...   \n",
       "2  R3J3EQQ9TZI5ZJ,R3E7WBGK7ID0KV,RWU79XKQ6I1QF,R2...   \n",
       "3  R3EEUZKKK9J36I,R3HJVYCLYOY554,REDECAZ7AMPQC,R1...   \n",
       "4  R1BP4L2HH9TFUP,R16PVJEXKV6QZS,R2UPDB81N66T4P,R...   \n",
       "\n",
       "                                        review_title  \\\n",
       "0  Satisfied,Charging is really fast,Value for mo...   \n",
       "1  A Good Braided Cable for Your Type C Device,Go...   \n",
       "2  Good speed for earlier versions,Good Product,W...   \n",
       "3  Good product,Good one,Nice,Really nice product...   \n",
       "4  As good as original,Decent,Good one for second...   \n",
       "\n",
       "                                      review_content  \\\n",
       "0  Looks durable Charging is fine tooNo complains...   \n",
       "1  I ordered this cable to connect my phone to An...   \n",
       "2  Not quite durable and sturdy,https://m.media-a...   \n",
       "3  Good product,long wire,Charges good,Nice,I bou...   \n",
       "4  Bought this instead of original apple, does th...   \n",
       "\n",
       "                                            img_link  \\\n",
       "0  https://m.media-amazon.com/images/W/WEBP_40237...   \n",
       "1  https://m.media-amazon.com/images/W/WEBP_40237...   \n",
       "2  https://m.media-amazon.com/images/W/WEBP_40237...   \n",
       "3  https://m.media-amazon.com/images/I/41V5FtEWPk...   \n",
       "4  https://m.media-amazon.com/images/W/WEBP_40237...   \n",
       "\n",
       "                                        product_link  \n",
       "0  https://www.amazon.in/Wayona-Braided-WN3LG1-Sy...  \n",
       "1  https://www.amazon.in/Ambrane-Unbreakable-Char...  \n",
       "2  https://www.amazon.in/Sounce-iPhone-Charging-C...  \n",
       "3  https://www.amazon.in/Deuce-300-Resistant-Tang...  \n",
       "4  https://www.amazon.in/Portronics-Konnect-POR-1...  "
      ]
     },
     "execution_count": 77,
     "metadata": {},
     "output_type": "execute_result"
    }
   ],
   "source": [
    "Amazon2.head()"
   ]
  },
  {
   "cell_type": "code",
   "execution_count": 78,
   "metadata": {},
   "outputs": [
    {
     "data": {
      "text/html": [
       "<div>\n",
       "<style scoped>\n",
       "    .dataframe tbody tr th:only-of-type {\n",
       "        vertical-align: middle;\n",
       "    }\n",
       "\n",
       "    .dataframe tbody tr th {\n",
       "        vertical-align: top;\n",
       "    }\n",
       "\n",
       "    .dataframe thead th {\n",
       "        text-align: right;\n",
       "    }\n",
       "</style>\n",
       "<table border=\"1\" class=\"dataframe\">\n",
       "  <thead>\n",
       "    <tr style=\"text-align: right;\">\n",
       "      <th></th>\n",
       "      <th>index</th>\n",
       "      <th>Order ID</th>\n",
       "      <th>Date</th>\n",
       "      <th>Status</th>\n",
       "      <th>Fulfilment</th>\n",
       "      <th>Sales Channel</th>\n",
       "      <th>ship-service-level</th>\n",
       "      <th>Style</th>\n",
       "      <th>SKU</th>\n",
       "      <th>Category</th>\n",
       "      <th>...</th>\n",
       "      <th>Courier Status</th>\n",
       "      <th>Qty</th>\n",
       "      <th>currency</th>\n",
       "      <th>Amount</th>\n",
       "      <th>ship-city</th>\n",
       "      <th>ship-state</th>\n",
       "      <th>ship-postal-code</th>\n",
       "      <th>ship-country</th>\n",
       "      <th>promotion-ids</th>\n",
       "      <th>B2B</th>\n",
       "    </tr>\n",
       "  </thead>\n",
       "  <tbody>\n",
       "    <tr>\n",
       "      <th>0</th>\n",
       "      <td>0</td>\n",
       "      <td>405-8078784-5731545</td>\n",
       "      <td>22/04/30</td>\n",
       "      <td>Cancelled</td>\n",
       "      <td>Merchant</td>\n",
       "      <td>Amazon.in</td>\n",
       "      <td>Standard</td>\n",
       "      <td>SET389</td>\n",
       "      <td>SET389-KR-NP-S</td>\n",
       "      <td>Set</td>\n",
       "      <td>...</td>\n",
       "      <td>Not Shipped</td>\n",
       "      <td>0</td>\n",
       "      <td>INR</td>\n",
       "      <td>647.62</td>\n",
       "      <td>MUMBAI</td>\n",
       "      <td>MAHARASHTRA</td>\n",
       "      <td>400081</td>\n",
       "      <td>IN</td>\n",
       "      <td>No Promotion</td>\n",
       "      <td>False</td>\n",
       "    </tr>\n",
       "    <tr>\n",
       "      <th>1</th>\n",
       "      <td>1</td>\n",
       "      <td>171-9198151-1101146</td>\n",
       "      <td>22/04/30</td>\n",
       "      <td>Shipped - Delivered to Buyer</td>\n",
       "      <td>Merchant</td>\n",
       "      <td>Amazon.in</td>\n",
       "      <td>Standard</td>\n",
       "      <td>JNE3781</td>\n",
       "      <td>JNE3781-KR-XXXL</td>\n",
       "      <td>kurta</td>\n",
       "      <td>...</td>\n",
       "      <td>Shipped</td>\n",
       "      <td>1</td>\n",
       "      <td>INR</td>\n",
       "      <td>406.00</td>\n",
       "      <td>BENGALURU</td>\n",
       "      <td>KARNATAKA</td>\n",
       "      <td>560085</td>\n",
       "      <td>IN</td>\n",
       "      <td>Amazon PLCC Free-Financing Universal Merchant ...</td>\n",
       "      <td>False</td>\n",
       "    </tr>\n",
       "    <tr>\n",
       "      <th>2</th>\n",
       "      <td>2</td>\n",
       "      <td>404-0687676-7273146</td>\n",
       "      <td>22/04/30</td>\n",
       "      <td>Shipped</td>\n",
       "      <td>Amazon</td>\n",
       "      <td>Amazon.in</td>\n",
       "      <td>Expedited</td>\n",
       "      <td>JNE3371</td>\n",
       "      <td>JNE3371-KR-XL</td>\n",
       "      <td>kurta</td>\n",
       "      <td>...</td>\n",
       "      <td>Shipped</td>\n",
       "      <td>1</td>\n",
       "      <td>INR</td>\n",
       "      <td>329.00</td>\n",
       "      <td>NAVI MUMBAI</td>\n",
       "      <td>MAHARASHTRA</td>\n",
       "      <td>410210</td>\n",
       "      <td>IN</td>\n",
       "      <td>IN Core Free Shipping 2015/04/08 23-48-5-108</td>\n",
       "      <td>True</td>\n",
       "    </tr>\n",
       "    <tr>\n",
       "      <th>3</th>\n",
       "      <td>3</td>\n",
       "      <td>403-9615377-8133951</td>\n",
       "      <td>22/04/30</td>\n",
       "      <td>Cancelled</td>\n",
       "      <td>Merchant</td>\n",
       "      <td>Amazon.in</td>\n",
       "      <td>Standard</td>\n",
       "      <td>J0341</td>\n",
       "      <td>J0341-DR-L</td>\n",
       "      <td>Western Dress</td>\n",
       "      <td>...</td>\n",
       "      <td>Not Shipped</td>\n",
       "      <td>0</td>\n",
       "      <td>INR</td>\n",
       "      <td>753.33</td>\n",
       "      <td>PUDUCHERRY</td>\n",
       "      <td>PUDUCHERRY</td>\n",
       "      <td>605008</td>\n",
       "      <td>IN</td>\n",
       "      <td>No Promotion</td>\n",
       "      <td>False</td>\n",
       "    </tr>\n",
       "    <tr>\n",
       "      <th>4</th>\n",
       "      <td>4</td>\n",
       "      <td>407-1069790-7240320</td>\n",
       "      <td>22/04/30</td>\n",
       "      <td>Shipped</td>\n",
       "      <td>Amazon</td>\n",
       "      <td>Amazon.in</td>\n",
       "      <td>Expedited</td>\n",
       "      <td>JNE3671</td>\n",
       "      <td>JNE3671-TU-XXXL</td>\n",
       "      <td>Top</td>\n",
       "      <td>...</td>\n",
       "      <td>Shipped</td>\n",
       "      <td>1</td>\n",
       "      <td>INR</td>\n",
       "      <td>574.00</td>\n",
       "      <td>CHENNAI</td>\n",
       "      <td>TAMIL NADU</td>\n",
       "      <td>600073</td>\n",
       "      <td>IN</td>\n",
       "      <td>No Promotion</td>\n",
       "      <td>False</td>\n",
       "    </tr>\n",
       "  </tbody>\n",
       "</table>\n",
       "<p>5 rows × 22 columns</p>\n",
       "</div>"
      ],
      "text/plain": [
       "   index             Order ID      Date                        Status  \\\n",
       "0      0  405-8078784-5731545  22/04/30                     Cancelled   \n",
       "1      1  171-9198151-1101146  22/04/30  Shipped - Delivered to Buyer   \n",
       "2      2  404-0687676-7273146  22/04/30                       Shipped   \n",
       "3      3  403-9615377-8133951  22/04/30                     Cancelled   \n",
       "4      4  407-1069790-7240320  22/04/30                       Shipped   \n",
       "\n",
       "  Fulfilment Sales Channel ship-service-level    Style              SKU  \\\n",
       "0   Merchant     Amazon.in           Standard   SET389   SET389-KR-NP-S   \n",
       "1   Merchant     Amazon.in           Standard  JNE3781  JNE3781-KR-XXXL   \n",
       "2     Amazon     Amazon.in          Expedited  JNE3371    JNE3371-KR-XL   \n",
       "3   Merchant     Amazon.in           Standard    J0341       J0341-DR-L   \n",
       "4     Amazon     Amazon.in          Expedited  JNE3671  JNE3671-TU-XXXL   \n",
       "\n",
       "        Category  ... Courier Status Qty currency  Amount    ship-city  \\\n",
       "0            Set  ...    Not Shipped   0      INR  647.62       MUMBAI   \n",
       "1          kurta  ...        Shipped   1      INR  406.00    BENGALURU   \n",
       "2          kurta  ...        Shipped   1      INR  329.00  NAVI MUMBAI   \n",
       "3  Western Dress  ...    Not Shipped   0      INR  753.33   PUDUCHERRY   \n",
       "4            Top  ...        Shipped   1      INR  574.00      CHENNAI   \n",
       "\n",
       "    ship-state ship-postal-code ship-country  \\\n",
       "0  MAHARASHTRA           400081           IN   \n",
       "1    KARNATAKA           560085           IN   \n",
       "2  MAHARASHTRA           410210           IN   \n",
       "3   PUDUCHERRY           605008           IN   \n",
       "4   TAMIL NADU           600073           IN   \n",
       "\n",
       "                                       promotion-ids    B2B  \n",
       "0                                       No Promotion  False  \n",
       "1  Amazon PLCC Free-Financing Universal Merchant ...  False  \n",
       "2       IN Core Free Shipping 2015/04/08 23-48-5-108   True  \n",
       "3                                       No Promotion  False  \n",
       "4                                       No Promotion  False  \n",
       "\n",
       "[5 rows x 22 columns]"
      ]
     },
     "execution_count": 78,
     "metadata": {},
     "output_type": "execute_result"
    }
   ],
   "source": [
    "Amazon3.head()"
   ]
  },
  {
   "cell_type": "code",
   "execution_count": 79,
   "metadata": {},
   "outputs": [
    {
     "name": "stdout",
     "output_type": "stream",
     "text": [
      "(1048575, 8)\n",
      "(1465, 16)\n",
      "(128975, 22)\n"
     ]
    }
   ],
   "source": [
    "# Looking at the shape of the datasets\n",
    "print(Amazon1.shape)\n",
    "print(Amazon2.shape)\n",
    "print(Amazon3.shape)"
   ]
  },
  {
   "cell_type": "code",
   "execution_count": 80,
   "metadata": {},
   "outputs": [
    {
     "name": "stdout",
     "output_type": "stream",
     "text": [
      "\n",
      "🔹 Amazon1 Columns:\n",
      "\n",
      "                Column Name\n",
      "0                Order Date\n",
      "1   Purchase Price Per Unit\n",
      "2                  Quantity\n",
      "3    Shipping Address State\n",
      "4                     Title\n",
      "5  ASIN/ISBN (Product Code)\n",
      "6                  Category\n",
      "7         Survey ResponseID\n"
     ]
    }
   ],
   "source": [
    "# Checking for the column names in tabular format\n",
    "def display_columns(Amazon1, df):\n",
    "    print(f\"\\n🔹 {Amazon1} Columns:\\n\")\n",
    "    print(pd.DataFrame(df.columns, columns=[\"Column Name\"]))\n",
    "\n",
    "display_columns(\"Amazon1\", Amazon1)"
   ]
  },
  {
   "cell_type": "code",
   "execution_count": 81,
   "metadata": {},
   "outputs": [
    {
     "name": "stdout",
     "output_type": "stream",
     "text": [
      "\n",
      "🔹 Amazon2 Columns:\n",
      "\n",
      "            Column Name\n",
      "0            product_id\n",
      "1          product_name\n",
      "2              category\n",
      "3      discounted_price\n",
      "4          actual_price\n",
      "5   discount_percentage\n",
      "6                rating\n",
      "7          rating_count\n",
      "8         about_product\n",
      "9               user_id\n",
      "10            user_name\n",
      "11            review_id\n",
      "12         review_title\n",
      "13       review_content\n",
      "14             img_link\n",
      "15         product_link\n"
     ]
    }
   ],
   "source": [
    "def display_columns(Amazon2, df):\n",
    "    print(f\"\\n🔹 {Amazon2} Columns:\\n\")\n",
    "    print(pd.DataFrame(df.columns, columns=[\"Column Name\"]))\n",
    "\n",
    "display_columns(\"Amazon2\", Amazon2)"
   ]
  },
  {
   "cell_type": "code",
   "execution_count": 82,
   "metadata": {},
   "outputs": [
    {
     "name": "stdout",
     "output_type": "stream",
     "text": [
      "\n",
      "🔹 Amazon3 Columns:\n",
      "\n",
      "           Column Name\n",
      "0                index\n",
      "1             Order ID\n",
      "2                 Date\n",
      "3               Status\n",
      "4           Fulfilment\n",
      "5        Sales Channel\n",
      "6   ship-service-level\n",
      "7                Style\n",
      "8                  SKU\n",
      "9             Category\n",
      "10                Size\n",
      "11                ASIN\n",
      "12      Courier Status\n",
      "13                 Qty\n",
      "14            currency\n",
      "15              Amount\n",
      "16           ship-city\n",
      "17          ship-state\n",
      "18    ship-postal-code\n",
      "19        ship-country\n",
      "20       promotion-ids\n",
      "21                 B2B\n"
     ]
    }
   ],
   "source": [
    "def display_columns(Amazon3, df):\n",
    "    print(f\"\\n🔹 {Amazon3} Columns:\\n\")\n",
    "    print(pd.DataFrame(df.columns, columns=[\"Column Name\"]))\n",
    "\n",
    "display_columns(\"Amazon3\", Amazon3)"
   ]
  },
  {
   "cell_type": "code",
   "execution_count": 83,
   "metadata": {},
   "outputs": [
    {
     "data": {
      "text/plain": [
       "Order Date                  datetime64[ns]\n",
       "Purchase Price Per Unit            float64\n",
       "Quantity                             int64\n",
       "Shipping Address State              object\n",
       "Title                               object\n",
       "ASIN/ISBN (Product Code)            object\n",
       "Category                            object\n",
       "Survey ResponseID                   object\n",
       "dtype: object"
      ]
     },
     "execution_count": 83,
     "metadata": {},
     "output_type": "execute_result"
    }
   ],
   "source": [
    "# Checking for the datatypes of the columns\n",
    "Amazon1.dtypes"
   ]
  },
  {
   "cell_type": "code",
   "execution_count": 84,
   "metadata": {},
   "outputs": [
    {
     "data": {
      "text/plain": [
       "product_id              object\n",
       "product_name            object\n",
       "category                object\n",
       "discounted_price        object\n",
       "actual_price            object\n",
       "discount_percentage    float64\n",
       "rating                  object\n",
       "rating_count            object\n",
       "about_product           object\n",
       "user_id                 object\n",
       "user_name               object\n",
       "review_id               object\n",
       "review_title            object\n",
       "review_content          object\n",
       "img_link                object\n",
       "product_link            object\n",
       "dtype: object"
      ]
     },
     "execution_count": 84,
     "metadata": {},
     "output_type": "execute_result"
    }
   ],
   "source": [
    "Amazon2.dtypes"
   ]
  },
  {
   "cell_type": "code",
   "execution_count": 85,
   "metadata": {},
   "outputs": [
    {
     "data": {
      "text/plain": [
       "index                   int64\n",
       "Order ID               object\n",
       "Date                   object\n",
       "Status                 object\n",
       "Fulfilment             object\n",
       "Sales Channel          object\n",
       "ship-service-level     object\n",
       "Style                  object\n",
       "SKU                    object\n",
       "Category               object\n",
       "Size                   object\n",
       "ASIN                   object\n",
       "Courier Status         object\n",
       "Qty                     int64\n",
       "currency               object\n",
       "Amount                float64\n",
       "ship-city              object\n",
       "ship-state             object\n",
       "ship-postal-code        int64\n",
       "ship-country           object\n",
       "promotion-ids          object\n",
       "B2B                      bool\n",
       "dtype: object"
      ]
     },
     "execution_count": 85,
     "metadata": {},
     "output_type": "execute_result"
    }
   ],
   "source": [
    "Amazon3.dtypes"
   ]
  },
  {
   "cell_type": "markdown",
   "metadata": {},
   "source": [
    "##### Data Cleaning: We will handle dataset  by dataset until we clean all of them."
   ]
  },
  {
   "cell_type": "code",
   "execution_count": 86,
   "metadata": {},
   "outputs": [
    {
     "data": {
      "text/plain": [
       "Order Date                      0\n",
       "Purchase Price Per Unit         0\n",
       "Quantity                        0\n",
       "Shipping Address State      51095\n",
       "Title                       51521\n",
       "ASIN/ISBN (Product Code)      608\n",
       "Category                    50809\n",
       "Survey ResponseID               0\n",
       "dtype: int64"
      ]
     },
     "execution_count": 86,
     "metadata": {},
     "output_type": "execute_result"
    }
   ],
   "source": [
    "# Checking for missing values in the first dataset\n",
    "Amazon1.isnull().sum()"
   ]
  },
  {
   "cell_type": "code",
   "execution_count": 87,
   "metadata": {},
   "outputs": [
    {
     "data": {
      "text/plain": [
       "Order Date                      0\n",
       "Purchase Price Per Unit         0\n",
       "Quantity                        0\n",
       "Shipping Address State      50775\n",
       "Title                       51202\n",
       "ASIN/ISBN (Product Code)        0\n",
       "Category                    50773\n",
       "Survey ResponseID               0\n",
       "dtype: int64"
      ]
     },
     "execution_count": 87,
     "metadata": {},
     "output_type": "execute_result"
    }
   ],
   "source": [
    "# Dropping the missing values in the amazon1 dataset ASIN column\n",
    "Amazon1 = Amazon1.dropna(subset=[\"ASIN/ISBN (Product Code)\"])\n",
    "Amazon1.isnull().sum()\n"
   ]
  },
  {
   "cell_type": "code",
   "execution_count": 88,
   "metadata": {},
   "outputs": [
    {
     "name": "stdout",
     "output_type": "stream",
     "text": [
      "50775 out of 1047967\n"
     ]
    }
   ],
   "source": [
    "print(Amazon1[\"Shipping Address State\"].isnull().sum(), \"out of\", len(Amazon1))\n"
   ]
  },
  {
   "cell_type": "code",
   "execution_count": 89,
   "metadata": {},
   "outputs": [
    {
     "name": "stdout",
     "output_type": "stream",
     "text": [
      "0\n"
     ]
    }
   ],
   "source": [
    "# Use .loc[] to avoid SettingWithCopyWarning\n",
    "Amazon1.loc[:, \"Shipping Address State\"] = Amazon1[\"Shipping Address State\"].bfill().ffill()\n",
    "\n",
    "# Check if missing values are filled\n",
    "print(Amazon1[\"Shipping Address State\"].isnull().sum())  # Should be 0"
   ]
  },
  {
   "cell_type": "code",
   "execution_count": 90,
   "metadata": {},
   "outputs": [
    {
     "data": {
      "text/plain": [
       "Order Date                      0\n",
       "Purchase Price Per Unit         0\n",
       "Quantity                        0\n",
       "Shipping Address State          0\n",
       "Title                       51202\n",
       "ASIN/ISBN (Product Code)        0\n",
       "Category                    50773\n",
       "Survey ResponseID               0\n",
       "dtype: int64"
      ]
     },
     "execution_count": 90,
     "metadata": {},
     "output_type": "execute_result"
    }
   ],
   "source": [
    "Amazon1.isnull().sum()"
   ]
  },
  {
   "cell_type": "code",
   "execution_count": 91,
   "metadata": {},
   "outputs": [],
   "source": [
    "import warnings\n",
    "warnings.simplefilter(action='ignore', category=FutureWarning)\n"
   ]
  },
  {
   "cell_type": "code",
   "execution_count": 92,
   "metadata": {},
   "outputs": [
    {
     "data": {
      "text/plain": [
       "Order Date                  0\n",
       "Purchase Price Per Unit     0\n",
       "Quantity                    0\n",
       "Shipping Address State      0\n",
       "Title                       0\n",
       "ASIN/ISBN (Product Code)    0\n",
       "Category                    0\n",
       "Survey ResponseID           0\n",
       "dtype: int64"
      ]
     },
     "execution_count": 92,
     "metadata": {},
     "output_type": "execute_result"
    }
   ],
   "source": [
    "# Create mapping dictionaries for ASIN → Title & Category (only for non-null values)\n",
    "asin_to_title = Amazon1.dropna(subset=[\"Title\"]).set_index(\"ASIN/ISBN (Product Code)\")[\"Title\"].to_dict()\n",
    "asin_to_category = Amazon1.dropna(subset=[\"Category\"]).set_index(\"ASIN/ISBN (Product Code)\")[\"Category\"].to_dict()\n",
    "\n",
    "# Fill missing values using the mapping dictionaries\n",
    "Amazon1[\"Title\"] = Amazon1[\"Title\"].fillna(Amazon1[\"ASIN/ISBN (Product Code)\"].map(asin_to_title))\n",
    "Amazon1[\"Category\"] = Amazon1[\"Category\"].fillna(Amazon1[\"ASIN/ISBN (Product Code)\"].map(asin_to_category))\n",
    "\n",
    "# Fill any remaining missing values with defaults\n",
    "Amazon1[\"Title\"].fillna(\"Unknown Product\", inplace=True)\n",
    "Amazon1[\"Category\"].fillna(\"Uncategorized\", inplace=True)\n",
    "\n",
    "# Check if missing values are filled\n",
    "Amazon1.isnull().sum()"
   ]
  },
  {
   "cell_type": "code",
   "execution_count": 93,
   "metadata": {},
   "outputs": [
    {
     "data": {
      "text/plain": [
       "product_id             0\n",
       "product_name           0\n",
       "category               0\n",
       "discounted_price       0\n",
       "actual_price           0\n",
       "discount_percentage    0\n",
       "rating                 0\n",
       "rating_count           2\n",
       "about_product          0\n",
       "user_id                0\n",
       "user_name              0\n",
       "review_id              0\n",
       "review_title           0\n",
       "review_content         0\n",
       "img_link               0\n",
       "product_link           0\n",
       "dtype: int64"
      ]
     },
     "execution_count": 93,
     "metadata": {},
     "output_type": "execute_result"
    }
   ],
   "source": [
    "# Checking for missing values in the second dataset\n",
    "Amazon2.isnull().sum()"
   ]
  },
  {
   "cell_type": "code",
   "execution_count": 94,
   "metadata": {},
   "outputs": [],
   "source": [
    "# Dropping the missing values in the rating count column\n",
    "Amazon2 = Amazon2.dropna(subset=[\"rating_count\"])"
   ]
  },
  {
   "cell_type": "code",
   "execution_count": 95,
   "metadata": {},
   "outputs": [
    {
     "data": {
      "text/plain": [
       "product_id             0\n",
       "product_name           0\n",
       "category               0\n",
       "discounted_price       0\n",
       "actual_price           0\n",
       "discount_percentage    0\n",
       "rating                 1\n",
       "rating_count           0\n",
       "about_product          0\n",
       "user_id                0\n",
       "user_name              0\n",
       "review_id              0\n",
       "review_title           0\n",
       "review_content         0\n",
       "img_link               0\n",
       "product_link           0\n",
       "currency               0\n",
       "currency_actual        0\n",
       "dtype: int64"
      ]
     },
     "execution_count": 95,
     "metadata": {},
     "output_type": "execute_result"
    }
   ],
   "source": [
    "import re\n",
    "\n",
    "# Convert Rating to float\n",
    "Amazon2[\"rating\"] = pd.to_numeric(Amazon2[\"rating\"], errors=\"coerce\")\n",
    "\n",
    "# Function to extract numerical price & retain currency\n",
    "def extract_price(value):\n",
    "    match = re.search(r\"([\\D]+)?([\\d,]+)\", str(value))  # Capture currency & number separately\n",
    "    if match:\n",
    "        currency = match.group(1).strip() if match.group(1) else \"Unknown\"  # Extract currency (₹ or $)\n",
    "        price = match.group(2).replace(\",\", \"\")  # Remove commas\n",
    "        return pd.Series([currency, float(price)])\n",
    "    return pd.Series([\"Unknown\", None])  # Default if no match\n",
    "\n",
    "# Apply function to extract price & currency for both price columns\n",
    "Amazon2[[\"currency\", \"discounted_price\"]] = Amazon2[\"discounted_price\"].apply(extract_price)\n",
    "Amazon2[[\"currency_actual\", \"actual_price\"]] = Amazon2[\"actual_price\"].apply(extract_price)\n",
    "\n",
    "# Convert Prices to Float\n",
    "Amazon2[\"discounted_price\"] = pd.to_numeric(Amazon2[\"discounted_price\"], errors=\"coerce\")\n",
    "Amazon2[\"actual_price\"] = pd.to_numeric(Amazon2[\"actual_price\"], errors=\"coerce\")\n",
    "\n",
    "# Check if missing values are filled\n",
    "Amazon2.isnull().sum()"
   ]
  },
  {
   "cell_type": "code",
   "execution_count": 96,
   "metadata": {},
   "outputs": [
    {
     "data": {
      "text/plain": [
       "product_id              object\n",
       "product_name            object\n",
       "category                object\n",
       "discounted_price       float64\n",
       "actual_price           float64\n",
       "discount_percentage    float64\n",
       "rating                 float64\n",
       "rating_count            object\n",
       "about_product           object\n",
       "user_id                 object\n",
       "user_name               object\n",
       "review_id               object\n",
       "review_title            object\n",
       "review_content          object\n",
       "img_link                object\n",
       "product_link            object\n",
       "currency                object\n",
       "currency_actual         object\n",
       "dtype: object"
      ]
     },
     "execution_count": 96,
     "metadata": {},
     "output_type": "execute_result"
    }
   ],
   "source": [
    "Amazon2.dtypes"
   ]
  }
 ],
 "metadata": {
  "kernelspec": {
   "display_name": "amazon_env",
   "language": "python",
   "name": "python3"
  },
  "language_info": {
   "codemirror_mode": {
    "name": "ipython",
    "version": 3
   },
   "file_extension": ".py",
   "mimetype": "text/x-python",
   "name": "python",
   "nbconvert_exporter": "python",
   "pygments_lexer": "ipython3",
   "version": "3.12.3"
  }
 },
 "nbformat": 4,
 "nbformat_minor": 2
}
